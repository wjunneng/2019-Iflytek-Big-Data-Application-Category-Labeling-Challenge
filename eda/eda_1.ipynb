{
 "cells": [
  {
   "cell_type": "code",
   "execution_count": 34,
   "metadata": {
    "collapsed": true,
    "pycharm": {
     "is_executing": false
    }
   },
   "outputs": [
    {
     "name": "stdout",
     "text": [
      "26\n1427\n140101\n"
     ],
     "output_type": "stream"
    }
   ],
   "source": [
    "import pandas as pd\n",
    "\n",
    "def get_app_desc(**params):\n",
    "    \"\"\"\n",
    "    返回 app_desc 文件内容\n",
    "    :param params:\n",
    "    :return:\n",
    "    \"\"\"\n",
    "    app_desc_data = pd.read_csv('/home/wjunneng/Python/2019-Iflytek-Big-Data-Application-Category-Labeling-Challenge/data/original/app_desc.dat', header=None, encoding='utf8', delimiter=' ')\n",
    "    # 以tab键分割，不知道为啥delimiter='\\t'会报错，所以先读入再分割。\n",
    "    app_desc_data = pd.DataFrame(app_desc_data[0].apply(lambda x: x.split('\\t')).tolist(), columns=['id', 'conment'])\n",
    "\n",
    "    return app_desc_data\n",
    "\n",
    "\n",
    "def get_apptype_id_name(**params):\n",
    "    \"\"\"\n",
    "    返回 apptype_id_name 文件内容\n",
    "    :param params:\n",
    "    :return:\n",
    "    \"\"\"\n",
    "    apptype_id_name_path = '/home/wjunneng/Python/2019-Iflytek-Big-Data-Application-Category-Labeling-Challenge/data/original/apptype_id_name.txt'\n",
    "    apptype_id_name_data = pd.read_table(apptype_id_name_path, header=None, sep='\\t', names=['label_code', 'label'])\n",
    "\n",
    "    return apptype_id_name_data\n",
    "\n",
    "\n",
    "def get_apptype_train(**params):\n",
    "    \"\"\"\n",
    "    返回 apptype_train 文件内容\n",
    "    :param params:\n",
    "    :return:\n",
    "    \"\"\"\n",
    "    apptype_train_data = pd.read_csv('/home/wjunneng/Python/2019-Iflytek-Big-Data-Application-Category-Labeling-Challenge/data/original/apptype_train.dat', header=None, encoding='utf8', delimiter=' ')\n",
    "    # 以tab键分割，不知道为啥delimiter='\\t'会报错，所以先读入再分割。\n",
    "    apptype_train_data = pd.DataFrame(apptype_train_data[0].apply(lambda x: x.split('\\t')).tolist(), columns=['id', 'label', 'conment'])\n",
    "\n",
    "    return apptype_train_data\n",
    "\n",
    "\n",
    "\n",
    "app_desc = get_app_desc()\n",
    "\n",
    "apptype_id_name = get_apptype_id_name()\n",
    "\n",
    "apptype_train = get_apptype_train()\n",
    "\n",
    "index = 0\n",
    "for i in range(apptype_id_name.shape[0]):\n",
    "    if len(str(apptype_id_name.iloc[i, 0])) < 6:\n",
    "        continue\n",
    "    else:\n",
    "        index = i\n",
    "        break\n",
    "\n",
    "print(index)\n",
    "print(apptype_id_name.iloc[index-1, 0])\n",
    "print(apptype_id_name.iloc[index, 0])"
   ]
  },
  {
   "cell_type": "code",
   "execution_count": 38,
   "outputs": [
    {
     "name": "stdout",
     "text": [
      "1\n",
      "                                 id  \\\n0  BB29DA6F8167CFC99E0853741C4EB17B   \n1  BB2A78EA7AD4945EAF6E38997F6139A3   \n2  BB2B1604CFA079C289FECF927DFBCE89   \n3  BB2C7BD0B0623644183DAD08A89E1D90   \n4  BB2E1A8F56158E483D7461E930E6332F   \n\n                                             conment                 label  \n0  注意]游戏需要在设备上自己的歌曲注意]音乐赛车是一个音乐改编的赛车游戏，你用你自己的音乐比赛...         140208,140603  \n1  定位试衣到家是一款基于地理位置，提供试衣到家专属购物体验的互联网平台。购物流程客户在试衣到家...                        \n2  想念一个人,就说出来。记得要下载安卓锁屏才可正常显示锁屏效果哦~更新内容更稳定、更优质，邀您...                        \n3  闽通宝手机客户端是基于移动互联网的，以公众出行服务为基础，贯彻绿色出行，低碳生活的理念，为出...                        \n4  风靡全球的DIY照片桌面，干净、流畅，启动提速100，瞬间提升手机性能；更是一亿用户的共同选...  140901,142001,142701  \n"
     ],
     "output_type": "stream"
    },
    {
     "name": "stderr",
     "text": [
      "/home/wjunneng/Python/anaconda3/envs/lightgbm/lib/python3.6/site-packages/ipykernel_launcher.py:12: SettingWithCopyWarning: \nA value is trying to be set on a copy of a slice from a DataFrame.\nTry using .loc[row_indexer,col_indexer] = value instead\n\nSee the caveats in the documentation: http://pandas.pydata.org/pandas-docs/stable/user_guide/indexing.html#returning-a-view-versus-a-copy\n  if sys.path[0] == '':\n"
     ],
     "output_type": "stream"
    }
   ],
   "source": [
    "result = []\n",
    "for raw_app_desc in range(1000):\n",
    "    if raw_app_desc % 1000 == 1:\n",
    "        print(raw_app_desc)\n",
    "    tmp = []\n",
    "    for raw_apptype_id_name in range(index, apptype_id_name.shape[0]):\n",
    "        if apptype_id_name.iloc[raw_apptype_id_name, 1] in app_desc.iloc[raw_app_desc, 1]:\n",
    "            tmp.append(str(apptype_id_name.iloc[raw_apptype_id_name, 0]))\n",
    "    result.append(','.join(tmp))\n",
    "    \n",
    "tmp = app_desc.iloc[:1000]\n",
    "tmp['label'] = result\n",
    "print(tmp.head())"
   ],
   "metadata": {
    "collapsed": false,
    "pycharm": {
     "name": "#%%\n",
     "is_executing": false
    }
   }
  },
  {
   "cell_type": "code",
   "execution_count": null,
   "outputs": [],
   "source": [
    "\n"
   ],
   "metadata": {
    "collapsed": false,
    "pycharm": {
     "name": "#%%\n"
    }
   }
  }
 ],
 "metadata": {
  "language_info": {
   "codemirror_mode": {
    "name": "ipython",
    "version": 2
   },
   "file_extension": ".py",
   "mimetype": "text/x-python",
   "name": "python",
   "nbconvert_exporter": "python",
   "pygments_lexer": "ipython2",
   "version": "2.7.6"
  },
  "kernelspec": {
   "name": "pycharm-e50da876",
   "language": "python",
   "display_name": "PyCharm (ForecastScore)"
  },
  "pycharm": {
   "stem_cell": {
    "cell_type": "raw",
    "source": [],
    "metadata": {
     "collapsed": false
    }
   }
  }
 },
 "nbformat": 4,
 "nbformat_minor": 0
}