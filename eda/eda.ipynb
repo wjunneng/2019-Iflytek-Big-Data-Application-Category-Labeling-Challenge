{
 "cells": [
  {
   "cell_type": "code",
   "execution_count": 7,
   "metadata": {
    "collapsed": true,
    "pycharm": {
     "is_executing": false,
     "name": "#%%\n"
    }
   },
   "outputs": [
    {
     "name": "stdout",
     "text": [
      "app_desc:\nid         99999\nconment    92095\ndtype: int64\n                                 id  \\\n0  BB29DA6F8167CFC99E0853741C4EB17B   \n1  BB2A78EA7AD4945EAF6E38997F6139A3   \n2  BB2B1604CFA079C289FECF927DFBCE89   \n3  BB2C7BD0B0623644183DAD08A89E1D90   \n4  BB2E1A8F56158E483D7461E930E6332F   \n\n                                             conment  \n0  注意]游戏需要在设备上自己的歌曲注意]音乐赛车是一个音乐改编的赛车游戏，你用你自己的音乐比赛...  \n1  定位试衣到家是一款基于地理位置，提供试衣到家专属购物体验的互联网平台。购物流程客户在试衣到家...  \n2  想念一个人,就说出来。记得要下载安卓锁屏才可正常显示锁屏效果哦~更新内容更稳定、更优质，邀您...  \n3  闽通宝手机客户端是基于移动互联网的，以公众出行服务为基础，贯彻绿色出行，低碳生活的理念，为出...  \n4  风靡全球的DIY照片桌面，干净、流畅，启动提速100，瞬间提升手机性能；更是一亿用户的共同选...  \n(99999, 2)\n\n\napptype_id_name:\n   label_code label\n0        1401  便捷生活\n1        1402    游戏\n2        1403  通讯社交\n3        1404    阅读\n4        1405  工作求职\n(152, 2)\n\n\n",
      "apptyep_train:\n                                 id   label  \\\n0  00000777CE5B5AA5C1AC94DB8EABE0AC  140203   \n1  0000DEC36E15C27DBFC64AB8208C4B37  140206   \n2  0001791406307B1D1CE2BC64A830B7C7  142106   \n3  0002F14825B9CA01653325EEFD69D790  142701   \n4  000419D79365331F89399E5F38A91B05  140901   \n\n                                             conment  \n0  《游戏王座》使用说明书成分由怪兽卡、魔法卡、陷阱卡合计数千张卡牌以及刺激性、耐久性玩法组成。...  \n1                                      更稳定、更优质，邀您一起。  \n2  《小钱袋》是一款免费网络版记帐软件，适用于个人记帐、家庭记帐、团队记帐，全程帮您安全记录您财...  \n3  领先的周易服务平台高人汇，汇聚算命大师、风水大师、占卜大师、手相大师、起名大师、算命先生、面...  \n4  平行空间是一款极简、免费的黑科技双开助手；您可以在平行空间双开微信微博、陌陌、映客、yy等应...  \n(30000, 3)\n"
     ],
     "output_type": "stream"
    }
   ],
   "source": [
    "import pandas as pd\n",
    "\n",
    "def get_app_desc(**params):\n",
    "    \"\"\"\n",
    "    返回 app_desc 文件内容\n",
    "    :param params:\n",
    "    :return:\n",
    "    \"\"\"\n",
    "    app_desc_data = pd.read_csv('/home/wjunneng/Python/2019-Iflytek-Big-Data-Application-Category-Labeling-Challenge/data/original/app_desc.dat', header=None, encoding='utf8', delimiter=' ')\n",
    "    # 以tab键分割，不知道为啥delimiter='\\t'会报错，所以先读入再分割。\n",
    "    app_desc_data = pd.DataFrame(app_desc_data[0].apply(lambda x: x.split('\\t')).tolist(), columns=['id', 'conment'])\n",
    "\n",
    "    return app_desc_data\n",
    "\n",
    "\n",
    "def get_apptype_id_name(**params):\n",
    "    \"\"\"\n",
    "    返回 apptype_id_name 文件内容\n",
    "    :param params:\n",
    "    :return:\n",
    "    \"\"\"\n",
    "    apptype_id_name_path = '/home/wjunneng/Python/2019-Iflytek-Big-Data-Application-Category-Labeling-Challenge/data/original/apptype_id_name.txt'\n",
    "    apptype_id_name_data = pd.read_table(apptype_id_name_path, header=None, sep='\\t', names=['label_code', 'label'])\n",
    "\n",
    "    return apptype_id_name_data\n",
    "\n",
    "\n",
    "def get_apptype_train(**params):\n",
    "    \"\"\"\n",
    "    返回 apptype_train 文件内容\n",
    "    :param params:\n",
    "    :return:\n",
    "    \"\"\"\n",
    "    apptype_train_data = pd.read_csv('/home/wjunneng/Python/2019-Iflytek-Big-Data-Application-Category-Labeling-Challenge/data/original/apptype_train.dat', header=None, encoding='utf8', delimiter=' ')\n",
    "    # 以tab键分割，不知道为啥delimiter='\\t'会报错，所以先读入再分割。\n",
    "    apptype_train_data = pd.DataFrame(apptype_train_data[0].apply(lambda x: x.split('\\t')).tolist(), columns=['id', 'label', 'conment'])\n",
    "\n",
    "    return apptype_train_data\n",
    "\n",
    "\n",
    "app_desc = get_app_desc()\n",
    "print('app_desc:')\n",
    "print(app_desc.nunique())\n",
    "print(app_desc.head())\n",
    "print(app_desc.shape)\n",
    "print('\\n')\n",
    "\n",
    "\n",
    "apptype_id_name = get_apptype_id_name()\n",
    "print('apptype_id_name:')\n",
    "print(apptype_id_name.head())\n",
    "print(apptype_id_name.shape)\n",
    "print('\\n')\n",
    "\n",
    "\n",
    "apptype_train = get_apptype_train()\n",
    "print('apptyep_train:')\n",
    "print(apptype_train.head())\n",
    "print(apptype_train.shape)\n"
   ]
  },
  {
   "cell_type": "code",
   "execution_count": 8,
   "outputs": [
    {
     "name": "stdout",
     "text": [
      "140901 5067\n140206 2408\n141001 1213\n140701 948\n142103 929\n140207 901\n140211 684\n140210 679\n142302 656\n140404 624\n140601 595\n142104 582\n140402 577\n140205 451\n140212 437\n140304 431\n140209 412\n140214 385\n142308 378\n140704 376\n140301 356\n140604 350\n140603 346\n140202 342\n140106 319\n142402 319\n140112 299\n142105 297\n142701 295\n140111 289\n140702 279\n142107 269\n142203 264\n142102 262\n142601 249\n140201 242\n141902 234\n141401 196\n141503 194\n140113 189\n142204 184\n140707 178\n140302 168\n140114 158\n142202 151\n140706 142\n141207 131\n142001 123\n140102 118\n140403 116\n140203 116\n140502 114\n141502 113\n140602 113\n141201 112\n140501 104\n140107 103\n141801 93\n141206 92\n142106 91\n140801 91\n140307 85\n141501 84\n140305 84\n140103 83\n140802 82\n142101 80\n140406 77\n141101 76\n142201 75\n141203 75\n142401 74\n140104 73\n140708 73\n141205 72\n140204 72\n140709 71\n141302 71\n141901 69\n140605 69\n140101 65\n142602 64\n142501 62\n140705 60\n142205 57\n140213 57\n141303 56\n142307 54\n141702 54\n140803 53\n141202 52\n140804 51\n140109 49\n140401 46\n140411 46\n142301 46\n142303 46\n140408 45\n140303 44\n142305 42\n140410 42\n140405 41\n141301 41\n140606 40\n140703 39\n140308 39\n142304 36\n142403 35\n140306 33\n140806 33\n140407 32\n140412 27\n141701 21\n141802 18\n140607 17\n140808 13\n140809 12\n140810 12\n140108 12\n142309 8\n142306 8\n141703 5\n140110 4\n140805 3\n140105 1\n['140110', '140805', '140105']\n(30000, 5)\n"
     ],
     "output_type": "stream"
    }
   ],
   "source": [
    "# 构造label1/label2标签列\n",
    "apptype_train['label1'] = apptype_train['label'].apply(lambda x: x.split('|')[0])\n",
    "apptype_train['label2'] = apptype_train['label'].apply(lambda x: x.split('|') if '|' in x else 0)\n",
    "\n",
    "# 寻找出现次数少于5的label\n",
    "counts_less_than_5 = []\n",
    "for k, v in apptype_train.label1.value_counts().items():\n",
    "    if v < 5:\n",
    "        counts_less_than_5.append(k)\n",
    "    print(k, v)\n",
    "\n",
    "print(counts_less_than_5)\n",
    "print(apptype_train.shape)\n",
    "\n"
   ],
   "metadata": {
    "collapsed": false,
    "pycharm": {
     "name": "#%%\n",
     "is_executing": false
    }
   }
  },
  {
   "cell_type": "code",
   "execution_count": 9,
   "outputs": [
    {
     "name": "stdout",
     "text": [
      "(29992, 5)\n"
     ],
     "output_type": "stream"
    }
   ],
   "source": [
    "apptype_train = apptype_train[~apptype_train['label1'].isin(counts_less_than_5)].reset_index(drop=True)\n",
    "print(apptype_train.shape)\n",
    "\n"
   ],
   "metadata": {
    "collapsed": false,
    "pycharm": {
     "name": "#%%\n",
     "is_executing": false
    }
   }
  },
  {
   "cell_type": "code",
   "execution_count": 10,
   "outputs": [
    {
     "name": "stdout",
     "text": [
      "stopwords length: 2317\n",
      "(29992, 27497)\n\n\n(99999, 27497)\n\n\n"
     ],
     "output_type": "stream"
    },
    {
     "name": "stderr",
     "text": [
      "/home/wjunneng/Python/anaconda3/envs/lightgbm/lib/python3.6/site-packages/sklearn/feature_extraction/text.py:300: UserWarning: Your stop_words may be inconsistent with your preprocessing. Tokenizing the stop words generated tokens ['able', 'about', 'above', 'according', 'accordingly', 'across', 'actually', 'after', 'afterwards', 'again', 'against', 'ain', 'all', 'allow', 'allows', 'almost', 'alone', 'along', 'already', 'also', 'although', 'always', 'am', 'among', 'amongst', 'an', 'and', 'another', 'any', 'anybody', 'anyhow', 'anyone', 'anything', 'anyway', 'anyways', 'anywhere', 'apart', 'appear', 'appreciate', 'appropriate', 'are', 'aren', 'around', 'as', 'aside', 'ask', 'asking', 'associated', 'at', 'available', 'away', 'awfully', 'be', 'became', 'because', 'become', 'becomes', 'becoming', 'been', 'before', 'beforehand', 'behind', 'being', 'believe', 'below', 'beside', 'besides', 'best', 'better', 'between', 'beyond', 'both', 'brief', 'but', 'by', 'came', 'can', 'cannot', 'cant', 'cause', 'causes', 'certain', 'certainly', 'changes', 'clearly', 'co', 'com', 'come', 'comes', 'concerning', 'consequently', 'consider', 'considering', 'contain', 'containing', 'contains', 'corresponding', 'could', 'couldn', 'course', 'currently', 'definitely', 'described', 'despite', 'did', 'didn', 'different', 'do', 'does', 'doesn', 'doing', 'don', 'done', 'down', 'downwards', 'during', 'each', 'edu', 'eg', 'eight', 'either', 'else', 'elsewhere', 'enough', 'entirely', 'especially', 'et', 'etc', 'even', 'ever', 'every', 'everybody', 'everyone', 'everything', 'everywhere', 'ex', 'exactly', 'example', 'except', 'exp', 'far', 'few', 'fifth', 'first', 'five', 'followed', 'following', 'follows', 'for', 'former', 'formerly', 'forth', 'four', 'from', 'further', 'furthermore', 'get', 'gets', 'getting', 'given', 'gives', 'go', 'goes', 'going', 'gone', 'got', 'gotten', 'greetings', 'had', 'hadn', 'happens', 'hardly', 'has', 'hasn', 'have', 'haven', 'having', 'he', 'hello', 'help', 'hence', 'her', 'here', 'hereafter', 'hereby', 'herein', 'hereupon', 'hers', 'herself', 'hi', 'him', 'himself', 'his', 'hither', 'hopefully', 'how', 'howbeit', 'however', 'ie', 'if', 'ignored', 'immediate', 'in', 'inasmuch', 'inc', 'indeed', 'indicate', 'indicated', 'indicates', 'inner', 'insofar', 'instead', 'into', 'inward', 'is', 'isn', 'it', 'its', 'itself', 'just', 'keep', 'keeps', 'kept', 'know', 'known', 'knows', 'last', 'lately', 'later', 'latter', 'latterly', 'least', 'less', 'lest', 'let', 'lex', 'like', 'liked', 'likely', 'little', 'll', 'look', 'looking', 'looks', 'ltd', 'mainly', 'many', 'may', 'maybe', 'me', 'mean', 'meanwhile', 'merely', 'might', 'mon', 'more', 'moreover', 'most', 'mostly', 'much', 'must', 'my', 'myself', 'name', 'namely', 'nd', 'near', 'nearly', 'necessary', 'need', 'needs', 'neither', 'never', 'nevertheless', 'new', 'next', 'nine', 'no', 'nobody', 'non', 'none', 'noone', 'nor', 'normally', 'not', 'nothing', 'novel', 'now', 'nowhere', 'obviously', 'of', 'off', 'often', 'oh', 'ok', 'okay', 'old', 'on', 'once', 'one', 'ones', 'only', 'onto', 'or', 'other', 'others', 'otherwise', 'ought', 'our', 'ours', 'ourselves', 'out', 'outside', 'over', 'overall', 'own', 'particular', 'particularly', 'per', 'perhaps', 'placed', 'please', 'plus', 'possible', 'presumably', 'probably', 'provides', 'que', 'quite', 'qv', 'rather', 'rd', 're', 'really', 'reasonably', 'regarding', 'regardless', 'regards', 'relatively', 'respectively', 'right', 'said', 'same', 'saw', 'say', 'saying', 'says', 'second', 'secondly', 'see', 'seeing', 'seem', 'seemed', 'seeming', 'seems', 'seen', 'self', 'selves', 'sensible', 'sent', 'serious', 'seriously', 'seven', 'several', 'shall', 'she', 'should', 'shouldn', 'since', 'six', 'so', 'some', 'somebody', 'somehow', 'someone', 'something', 'sometime', 'sometimes', 'somewhat', 'somewhere', 'soon', 'sorry', 'specified', 'specify', 'specifying', 'still', 'sub', 'such', 'sup', 'sure', 'take', 'taken', 'tell', 'tends', 'th', 'than', 'thank', 'thanks', 'thanx', 'that', 'thats', 'the', 'their', 'theirs', 'them', 'themselves', 'then', 'thence', 'there', 'thereafter', 'thereby', 'therefore', 'therein', 'theres', 'thereupon', 'these', 'they', 'think', 'third', 'this', 'thorough', 'thoroughly', 'those', 'though', 'three', 'through', 'throughout', 'thru', 'thus', 'to', 'together', 'too', 'took', 'toward', 'towards', 'tried', 'tries', 'truly', 'try', 'trying', 'twice', 'two', 'un', 'under', 'unfortunately', 'unless', 'unlikely', 'until', 'unto', 'up', 'upon', 'us', 'use', 'used', 'useful', 'uses', 'using', 'usually', 'value', 'various', 've', 'very', 'via', 'viz', 'vs', 'want', 'wants', 'was', 'wasn', 'way', 'we', 'welcome', 'well', 'went', 'were', 'weren', 'what', 'whatever', 'when', 'whence', 'whenever', 'where', 'whereafter', 'whereas', 'whereby', 'wherein', 'whereupon', 'wherever', 'whether', 'which', 'while', 'whither', 'who', 'whoever', 'whole', 'whom', 'whose', 'why', 'will', 'willing', 'wish', 'with', 'within', 'without', 'won', 'wonder', 'would', 'wouldn', 'yes', 'yet', 'you', 'your', 'yours', 'yourself', 'yourselves', 'zero', 'zt', 'zz', '①①', '①②', '①③', '①④', '①⑤', '①⑥', '①⑦', '①⑧', '①⑨', '①ａ', '①ｂ', '①ｃ', '①ｄ', '①ｅ', '①ｆ', '①ｇ', '①ｈ', '①ｉ', '①ｏ', '②①', '②②', '②③', '②④', '②⑤', '②⑥', '②⑦', '②⑧', '②⑩', '②ａ', '②ｂ', '②ｃ', '②ｄ', '②ｅ', '②ｆ', '②ｇ', '②ｈ', '②ｉ', '②ｊ', '③①', '③⑩', '③ａ', '③ｂ', '③ｃ', '③ｄ', '③ｅ', '③ｆ', '③ｇ', '③ｈ', '④ａ', '④ｂ', '④ｃ', '④ｄ', '④ｅ', '⑤ａ', '⑤ｂ', '⑤ｄ', '⑤ｅ', '⑤ｆ', '一一', '一下', '一个', '一些', '一何', '一切', '一则', '一则通过', '一天', '一定', '一方面', '一旦', '一时', '一来', '一样', '一次', '一片', '一番', '一直', '一致', '一般', '一起', '一转眼', '一边', '一面', '万一', '三天两头', '三番两次', '三番五次', '上下', '上升', '上去', '上来', '上述', '上面', '下列', '下去', '下来', '下面', '不一', '不下', '不久', '不了', '不亦乐乎', '不仅', '不仅仅', '不仅仅是', '不会', '不但', '不光', '不免', '不再', '不力', '不单', '不变', '不只', '不可', '不可开交', '不可抗拒', '不同', '不外', '不外乎', '不够', '不大', '不如', '不妨', '不定', '不对', '不少', '不尽', '不尽然', '不巧', '不已', '不常', '不得', '不得不', '不得了', '不得已', '不必', '不怎么', '不怕', '不惟', '不成', '不拘', '不择手段', '不敢', '不料', '不断', '不日', '不时', '不是', '不曾', '不止', '不止一次', '不比', '不消', '不满', '不然', '不然的话', '不特', '不独', '不由得', '不知不觉', '不管', '不管怎样', '不经意', '不胜', '不能', '不能不', '不至于', '不若', '不要', '不论', '不起', '不足', '不过', '不迭', '不问', '不限', '与其', '与其说', '与否', '与此同时', '专门', '且不说', '且说', '两者', '严格', '严重', '个人', '个别', '中小', '中间', '丰富', '临到', '为主', '为了', '为什么', '为什麽', '为何', '为止', '为此', '为着', '主张', '主要', '举凡', '举行', '乃至', '乃至于', '之一', '之前', '之后', '之後', '之所以', '之类', '乌乎', '乘势', '乘机', '乘虚', '乘隙', '也好', '也就是说', '也是', '也罢', '了解', '争取', '二来', '二话不说', '二话没说', '于是', '于是乎', '云云', '云尔', '互相', '交口', '产生', '亲口', '亲手', '亲眼', '亲自', '亲身', '人人', '人们', '人家', '什么', '什么样', '什麽', '今后', '今天', '今年', '今後', '介于', '仍旧', '仍然', '从不', '从严', '从中', '从事', '从今以后', '从优', '从古到今', '从古至今', '从头', '从宽', '从小', '从新', '从无到有', '从早到晚', '从未', '从来', '从此', '从此以后', '从而', '从轻', '从速', '从重', '他人', '他们', '他是', '他的', '代替', '以上', '以下', '以为', '以便', '以免', '以前', '以及', '以后', '以外', '以後', '以故', '以期', '以来', '以至', '以至于', '以致', '任何', '任凭', '任务', '企图', '伙同', '伟大', '传说', '传闻', '似乎', '似的', '但凡', '但愿', '但是', '何乐而不为', '何以', '何况', '何处', '何妨', '何尝', '何必', '何时', '何止', '何苦', '何须', '余外', '作为', '你们', '你是', '你的', '使得', '使用', '例如', '依据', '依照', '依靠', '便于', '促进', '保持', '俺们', '倍加', '倍感', '倒不如', '倒不如说', '倒是', '倘使', '倘或', '倘然', '倘若', '借以', '借此', '假使', '假如', '假若', '偏偏', '做到', '偶尔', '偶而', '傥然', '允许', '充其极', '充其量', '充分', '先不先', '先后', '先後', '先生', '光是', '全体', '全力', '全年', '全然', '全身心', '全部', '全都', '全面', '八成', '公然', '共同', '共总', '关于', '其一', '其中', '其二', '其他', '其余', '其后', '其它', '其实', '其次', '具体', '具体地说', '具体来说', '具体说来', '具有', '兼之', '再其次', '再则', '再有', '再次', '再者', '再者说', '再说', '决不', '决定', '决非', '况且', '准备', '凑巧', '凝神', '几乎', '几度', '几时', '几番', '几经', '凡是', '凭借', '出于', '出去', '出来', '出现', '分别', '分头', '分期分批', '切不可', '切切', '切勿', '切莫', '则甚', '刚好', '刚巧', '刚才', '别人', '别处', '别是', '别的', '别管', '别说', '到了儿', '到处', '到头', '到头来', '到底', '到目前为止', '前后', '前此', '前者', '前进', '前面', '加上', '加之', '加以', '加入', '加强', '动不动', '动辄', '勃然', '匆匆', '十分', '千万千万', '单单', '单纯', '即令', '即使', '即便', '即刻', '即如', '即将', '即或', '即是说', '即若', '却不', '原来', '又及', '及其', '及时', '及至', '双方', '反之', '反之亦然', '反之则', '反倒', '反倒是', '反应', '反手', '反映', '反而', '反过来', '反过来说', '取得', '取道', '受到', '变成', '另一个', '另一方面', '另外', '另悉', '另方面', '另行', '只当', '只怕', '只是', '只有', '只消', '只要', '只限', '叫做', '召开', '叮咚', '可以', '可好', '可是', '可能', '可见', '各个', '各人', '各位', '各地', '各式', '各种', '各级', '各自', '合理', '同一', '同时', '同样', '后来', '后者', '后面', '向使', '向着', '否则', '吧哒', '呆呆地', '呜呼', '周围', '呵呵', '呼哧', '呼啦', '咱们', '哈哈', '哎呀', '哎哟', '哗啦', '哪个', '哪些', '哪儿', '哪天', '哪年', '哪怕', '哪样', '哪边', '哪里', '哼唷', '唯有', '啊呀', '啊哈', '啊哟', '啪达', '啷当', '喔唷', '嗡嗡', '嘎嘎', '嘎登', '嘿嘿', '因为', '因了', '因此', '因着', '因而', '固然', '在下', '在于', '坚决', '坚持', '基于', '基本', '基本上', '处在', '处处', '处理', '复杂', '多么', '多亏', '多多', '多多少少', '多多益善', '多少', '多年前', '多年来', '多数', '多次', '够瞧的', '大不了', '大举', '大体上', '大凡', '大力', '大多', '大多数', '大大', '大家', '大张旗鼓', '大批', '大抵', '大概', '大略', '大约', '大致', '大都', '大量', '大面儿上', '失去', '奋勇', '她们', '她是', '她的', '好在', '好的', '好象', '如上', '如上所述', '如下', '如今', '如何', '如其', '如前所述', '如同', '如常', '如是', '如期', '如果', '如次', '如此', '如此等等', '如若', '始而', '姑且', '存在', '存心', '孰料', '孰知', '宁可', '宁愿', '宁肯', '它们', '它们的', '它是', '它的', '安全', '完全', '完成', '实现', '实际', '宣布', '容易', '密切', '对于', '对应', '对待', '对方', '对比', '将才', '将要', '将近', '少数', '尔后', '尔尔', '尔等', '尚且', '尤其', '就地', '就是', '就是了', '就是说', '就此', '就算', '就要', '尽可能', '尽如人意', '尽心尽力', '尽心竭力', '尽快', '尽早', '尽然', '尽管', '尽管如此', '尽量', '局外', '居然', '届时', '属于', '屡屡', '屡次', '屡次三番', '岂但', '岂止', '岂非', '川流不息', '左右', '巨大', '巩固', '差一点', '差不多', '已矣', '已经', '巴巴', '帮助', '常常', '常言说', '常言说得好', '常言道', '平素', '年复一年', '并不', '并不是', '并且', '并排', '并无', '并没', '并没有', '并肩', '并非', '广大', '广泛', '应当', '应用', '应该', '庶乎', '庶几', '开外', '开始', '开展', '引起', '弹指之间', '强烈', '强调', '归根到底', '归根结底', '归齐', '当下', '当中', '当儿', '当前', '当即', '当口儿', '当地', '当场', '当头', '当庭', '当时', '当然', '当真', '当着', '形成', '彻夜', '彻底', '彼时', '彼此', '往往', '待到', '很多', '很少', '後来', '後面', '得了', '得出', '得到', '得天独厚', '得起', '心里', '必定', '必将', '必然', '必要', '必须', '快要', '忽地', '忽然', '怎么', '怎么办', '怎么样', '怎奈', '怎样', '怎麽', '急匆匆', '怪不得', '总之', '总是', '总的来看', '总的来说', '总的说来', '总结', '总而言之', '恍然', '恐怕', '恰似', '恰好', '恰如', '恰巧', '恰恰', '恰恰相反', '恰逢', '您们', '您是', '惟其', '惯常', '意思', '愤然', '愿意', '慢说', '成为', '成年累月', '成心', '我们', '我是', '我的', '或则', '或多或少', '或是', '或曰', '或者', '或许', '战斗', '截然', '截至', '所以', '所在', '所幸', '所有', '所谓', '才能', '扑通', '打从', '打开天窗说亮话', '扩大', '抑或', '抽冷子', '拦腰', '按时', '按期', '按照', '按理', '按说', '挨个', '挨家挨户', '挨次', '挨着', '挨门挨户', '挨门逐户', '换句话说', '换言之', '据实', '据悉', '据我所知', '据此', '据称', '据说', '掌握', '接下来', '接着', '接著', '接连不断', '故意', '故此', '故而', '敞开儿', '敢于', '敢情', '整个', '断然', '方便', '方才', '方能', '方面', '旁人', '无宁', '无法', '无论', '既往', '既是', '既然', '日复一日', '日渐', '日益', '日臻', '日见', '时候', '昂然', '明显', '明确', '是不是', '是以', '是否', '是的', '显然', '显著', '普通', '普遍', '暗中', '暗地里', '暗自', '更为', '更加', '更进一步', '曾经', '替代', '最后', '最大', '最好', '最後', '最近', '最高', '有些', '有关', '有利', '有力', '有及', '有所', '有效', '有时', '有点', '有的', '有的是', '有着', '有著', '朝着', '本人', '本地', '本着', '本身', '权时', '来不及', '来得及', '来看', '来着', '来自', '来讲', '来说', '极为', '极了', '极其', '极力', '极大', '极度', '极端', '构成', '果然', '果真', '某个', '某些', '某某', '根据', '根本', '格外', '次第', '欢迎', '正值', '正在', '正如', '正巧', '正常', '正是', '此中', '此后', '此地', '此处', '此外', '此时', '此次', '此间', '毋宁', '每个', '每天', '每年', '每当', '每时每刻', '每每', '每逢', '比及', '比如', '比如说', '比方', '比照', '比起', '比较', '毕竟', '毫不', '毫无', '毫无例外', '毫无保留地', '沙沙', '没奈何', '没有', '沿着', '注意', '深入', '清楚', '满足', '漫说', '然则', '然后', '然後', '然而', '照着', '牢牢', '特别是', '特殊', '特点', '犹且', '犹自', '独自', '猛然', '猛然间', '率尔', '率然', '现代', '现在', '理应', '理当', '理该', '瑟瑟', '甚且', '甚么', '甚或', '甚而', '甚至', '甚至于', '用来', '由于', '由是', '由此', '由此可见', '略为', '略加', '略微', '的确', '的话', '皆可', '目前', '直到', '直接', '相似', '相信', '相反', '相同', '相对', '相对而言', '相应', '相当', '相等', '省得', '看上去', '看出', '看到', '看来', '看样子', '看看', '看见', '看起来', '真是', '真正', '眨眼', '着呢', '矣乎', '矣哉', '知道', '确定', '碰巧', '积极', '移动', '究竟', '穷年累月', '突出', '突然', '立刻', '立即', '立地', '立时', '立马', '竟然', '竟而', '第二', '等到', '等等', '策略地', '简直', '简而言之', '简言之', '类如', '精光', '紧接着', '累年', '累次', '纯粹', '纵令', '纵使', '纵然', '练习', '组成', '经常', '经过', '结合', '结果', '绝不', '绝对', '绝非', '绝顶', '继之', '继后', '继续', '继而', '维持', '综上所述', '缕缕', '罢了', '老是', '老老实实', '考虑', '而且', '而况', '而又', '而后', '而外', '而已', '而是', '而言', '而论', '联系', '联袂', '背地里', '背靠背', '能否', '能够', '自个儿', '自从', '自各儿', '自后', '自家', '自己', '自打', '自身', '至于', '至今', '至若', '般的', '良好', '若夫', '若是', '若果', '若非', '范围', '莫不', '莫不然', '莫如', '莫若', '莫非', '获得', '藉以', '虽则', '虽然', '虽说', '行为', '行动', '表明', '表示', '要不', '要不是', '要不然', '要么', '要是', '要求', '规定', '觉得', '譬喻', '譬如', '认为', '认真', '认识', '许多', '论说', '设使', '设或', '设若', '诚如', '诚然', '话说', '该当', '说明', '说来', '说说', '请勿', '诸位', '诸如', '谁人', '谁料', '谁知', '豁然', '贼死', '赖以', '赶快', '赶早不赶晚', '起先', '起初', '起头', '起来', '起见', '起首', '趁便', '趁势', '趁早', '趁机', '趁热', '趁着', '越是', '路经', '转动', '转变', '转贴', '轰然', '较为', '较之', '较比', '达到', '达旦', '迅速', '过于', '过去', '过来', '运用', '近几年来', '近年来', '近来', '还是', '还有', '还要', '这一来', '这个', '这么', '这么些', '这么样', '这么点儿', '这些', '这会儿', '这儿', '这就是说', '这时', '这样', '这次', '这点', '这种', '这般', '这边', '这里', '这麽', '进入', '进去', '进来', '进步', '进而', '进行', '连同', '连声', '连日', '连日来', '连袂', '连连', '迟早', '迫于', '适应', '适当', '适用', '逐步', '逐渐', '通常', '通过', '造成', '遇到', '遭到', '遵循', '遵照', '避免', '那个', '那么', '那么些', '那么样', '那些', '那会儿', '那儿', '那时', '那末', '那样', '那般', '那边', '那里', '那麽', '部分', '鄙人', '采取', '里面', '重大', '重新', '重要', '鉴于', '针对', '长期以来', '长此下去', '长话短说', '问题', '间或', '防止', '附近', '限制', '陡然', '除了', '除却', '除去', '除外', '除开', '除此', '除此之外', '除此以外', '除此而外', '除非', '随后', '随时', '随着', '随著', '隔夜', '隔日', '难得', '难怪', '难说', '难道', '难道说', '集中', '需要', '非但', '非常', '非徒', '非得', '非特', '非独', '顶多', '顷刻', '顷刻之间', '顷刻间', '顺着', '顿时', '风雨无阻', '首先', '马上', '高低', '高兴', '默然', '默默地', '１２', 'ｌｉ', 'ｎｇ昉', 'ｚｘｆｉｔｌ'] not in stop_words.\n  'stop_words.' % sorted(inconsistent))\n"
     ],
     "output_type": "stream"
    }
   ],
   "source": [
    "import jieba\n",
    "from sklearn.feature_extraction.text import TfidfVectorizer\n",
    "\n",
    "with open('/home/wjunneng/Python/2019-Iflytek-Big-Data-Application-Category-Labeling-Challenge/data/stopwords/stopwords.txt', 'r') as file:\n",
    "    stopwords = file.readlines()\n",
    "\n",
    "print('stopwords length:', len(stopwords))\n",
    "apptype_train['conment'] = apptype_train['conment'].apply(lambda x: ' '.join(jieba.cut(x)))\n",
    "app_desc['conment'] = app_desc['conment'].apply(lambda x: ' '.join(jieba.cut(x)))\n",
    "\n",
    "vec = TfidfVectorizer(ngram_range=(1, 1), min_df=5, max_df=0.8, use_idf=1, smooth_idf=1, sublinear_tf=1, stop_words=stopwords)  # 这里参数可以改\n",
    "apptype_train_term_doc = vec.fit_transform(apptype_train['conment'])\n",
    "app_desc_term_doc = vec.transform(app_desc['conment'])\n",
    "\n",
    "print(apptype_train_term_doc.shape)\n",
    "print('\\n')\n",
    "\n",
    "print(app_desc_term_doc.shape)\n",
    "print('\\n')\n",
    "\n"
   ],
   "metadata": {
    "collapsed": false,
    "pycharm": {
     "name": "#%%\n",
     "is_executing": false
    }
   }
  },
  {
   "cell_type": "code",
   "execution_count": 11,
   "outputs": [
    {
     "name": "stdout",
     "text": [
      "label: \n 0         14\n1         17\n2         99\n3        121\n4         70\n        ... \n29987     63\n29988     22\n29989      2\n29990     34\n29991     56\nName: label1, Length: 29992, dtype: int64\n\n\nnum_class: \n 122\n"
     ],
     "output_type": "stream"
    }
   ],
   "source": [
    "from sklearn import preprocessing\n",
    "import numpy as np\n",
    "\n",
    "# 构造标签属性\n",
    "lbl = preprocessing.LabelEncoder()\n",
    "\n",
    "# 训练\n",
    "lbl.fit(apptype_train['label1'].values)\n",
    "apptype_train['label1'] = lbl.transform(apptype_train['label1'].values)\n",
    "\n",
    "# 获取label\n",
    "label = apptype_train['label1']\n",
    "# 获取label数\n",
    "num_class = apptype_train['label1'].max() + 1\n",
    "\n",
    "print('label: \\n', label)\n",
    "print('\\n')\n",
    "print('num_class: \\n', num_class)\n",
    "\n"
   ],
   "metadata": {
    "collapsed": false,
    "pycharm": {
     "name": "#%%\n",
     "is_executing": false
    }
   }
  },
  {
   "cell_type": "code",
   "execution_count": 12,
   "outputs": [
    {
     "name": "stdout",
     "text": [
      "stack:1/5\n",
      "stack:2/5\n",
      "stack:3/5\n",
      "stack:4/5\n",
      "stack:5/5\n",
      "model acc_score: 0.6086623099493198\n"
     ],
     "output_type": "stream"
    }
   ],
   "source": [
    "# =======================模型训练：5折交叉验证=========================================\n",
    "from sklearn.model_selection import StratifiedKFold\n",
    "from sklearn.linear_model import RidgeClassifier\n",
    "from sklearn import metrics\n",
    "\n",
    "n_splits = 5\n",
    "stack_train = np.zeros((apptype_train.shape[0], num_class))\n",
    "stack_test = np.zeros((app_desc.shape[0], num_class))\n",
    "\n",
    "for i, (tr, va) in enumerate(StratifiedKFold(n_splits=n_splits, random_state=2019).split(apptype_train_term_doc, label)):\n",
    "    print('stack:%d/%d' % ((i + 1), n_splits))\n",
    "\n",
    "    ridge = RidgeClassifier(random_state=2019)\n",
    "    ridge.fit(apptype_train_term_doc[tr], label[tr])\n",
    "    score_va = ridge._predict_proba_lr(apptype_train_term_doc[va])\n",
    "    score_te = ridge._predict_proba_lr(app_desc_term_doc)\n",
    "\n",
    "    stack_train[va] += score_va\n",
    "    stack_test += score_te\n",
    "\n",
    "print(\"model acc_score:\",\n",
    "      metrics.accuracy_score(label, np.argmax(stack_train, axis=1), normalize=True, sample_weight=None))\n",
    "\n"
   ],
   "metadata": {
    "collapsed": false,
    "pycharm": {
     "name": "#%%\n",
     "is_executing": false
    }
   }
  },
  {
   "cell_type": "code",
   "execution_count": 13,
   "outputs": [
    {
     "name": "stdout",
     "text": [
      "线下准确率：0.744932\n"
     ],
     "output_type": "stream"
    }
   ],
   "source": [
    "# 获取第一第二个标签：取概率最大的前两个即可：\n",
    "m = pd.DataFrame(stack_train)\n",
    "first = []\n",
    "second = []\n",
    "for j, row in m.iterrows():\n",
    "    zz = list(np.argsort(row))\n",
    "    # 第一个标签\n",
    "    first.append(row.index[zz[-1]])\n",
    "    # 第二个标签\n",
    "    second.append(row.index[zz[-2]])\n",
    "m['label1'] = first\n",
    "m['label2'] = second\n",
    "\n",
    "# 计算准确率，只要命中一个就算正确：\n",
    "k = 0\n",
    "for i in range(len(label)):\n",
    "    if label[i] in [m.loc[i, 'label1'], m.loc[i, 'label2']]:\n",
    "        k += 1\n",
    "    else:\n",
    "        pass\n",
    "print('线下准确率：%f' % (k / len(label)))\n",
    "\n"
   ],
   "metadata": {
    "collapsed": false,
    "pycharm": {
     "name": "#%%\n",
     "is_executing": false
    }
   }
  },
  {
   "cell_type": "code",
   "execution_count": 15,
   "outputs": [
    {
     "name": "stdout",
     "text": [
      "len(list(train['label1'].values):  29992\n          0         1         2         3         4         5         6  \\\n0  0.040647  0.040087  0.039838  0.041002  0.040792  0.040689  0.040432   \n1  0.042289  0.038850  0.039409  0.040908  0.049648  0.039836  0.040801   \n2  0.040147  0.039164  0.041904  0.040287  0.040618  0.040406  0.040327   \n3  0.042540  0.054147  0.039942  0.041011  0.044187  0.040584  0.040036   \n4  0.039769  0.041064  0.039139  0.041004  0.039696  0.039679  0.040224   \n\n          7         8         9  ...       114       115       116       117  \\\n0  0.041481  0.042116  0.040652  ...  0.040492  0.039377  0.040461  0.040486   \n1  0.042039  0.038700  0.039296  ...  0.040196  0.039572  0.042863  0.040469   \n2  0.040726  0.040008  0.040986  ...  0.040510  0.041042  0.038926  0.040249   \n3  0.040360  0.062545  0.044395  ...  0.040405  0.039306  0.038560  0.040993   \n4  0.039738  0.040390  0.039883  ...  0.040204  0.038655  0.039548  0.039304   \n\n        118       119       120       121  label1  label2  \n0  0.041058  0.040266  0.040376  0.041638      48      19  \n1  0.044290  0.041806  0.039837  0.039562     107     113  \n2  0.040214  0.039940  0.040521  0.039778      70      28  \n3  0.040030  0.038717  0.039298  0.039059       8       1  \n4  0.040214  0.040872  0.040745  0.039584      70     103  \n\n[5 rows x 124 columns]\n"
     ],
     "output_type": "stream"
    }
   ],
   "source": [
    "# 准备测试集结果：\n",
    "results = pd.DataFrame(stack_test)\n",
    "first = []\n",
    "second = []\n",
    "for j, row in results.iterrows():\n",
    "    zz = list(np.argsort(row))\n",
    "    # 第一个标签\n",
    "    first.append(row.index[zz[-1]])\n",
    "    # 第二个标签\n",
    "    second.append(row.index[zz[-2]])\n",
    "results['label1'] = first\n",
    "results['label2'] = second\n",
    "\n",
    "print(\"len(list(train['label1'].values): \", len(list(apptype_train['label1'].values)))\n",
    "print(results.head())\n",
    "\n",
    "# 之前编码，最后逆编码回来：\n",
    "results['label1'] = lbl.inverse_transform(results['label1'].apply(lambda x: int(x)).values)\n",
    "results['label2'] = lbl.inverse_transform(results['label2'].apply(lambda x: int(x)).values)\n",
    "\n",
    "# 结合id列，保存：\n",
    "pd.concat([app_desc[['id']], results[['label1', 'label2']]], axis=1).to_csv('/home/wjunneng/Python/2019-Iflytek-Big-Data-Application-Category-Labeling-Challenge/data/submit/baseline.csv', index=None, encoding='utf8')"
   ],
   "metadata": {
    "collapsed": false,
    "pycharm": {
     "name": "#%%\n",
     "is_executing": false
    }
   }
  },
  {
   "cell_type": "code",
   "execution_count": null,
   "outputs": [],
   "source": [
    "\n"
   ],
   "metadata": {
    "collapsed": false,
    "pycharm": {
     "name": "#%%\n",
     "is_executing": true
    }
   }
  }
 ],
 "metadata": {
  "language_info": {
   "codemirror_mode": {
    "name": "ipython",
    "version": 2
   },
   "file_extension": ".py",
   "mimetype": "text/x-python",
   "name": "python",
   "nbconvert_exporter": "python",
   "pygments_lexer": "ipython2",
   "version": "2.7.6"
  },
  "kernelspec": {
   "name": "pycharm-e50da876",
   "language": "python",
   "display_name": "PyCharm (ForecastScore)"
  },
  "pycharm": {
   "stem_cell": {
    "cell_type": "raw",
    "source": [],
    "metadata": {
     "collapsed": false
    }
   }
  }
 },
 "nbformat": 4,
 "nbformat_minor": 0
}